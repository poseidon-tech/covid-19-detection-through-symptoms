{
 "cells": [
  {
   "cell_type": "code",
   "execution_count": 1,
   "metadata": {},
   "outputs": [],
   "source": [
    "# Import libraries and modules\n",
    "import numpy as np\n",
    "import pandas as pd\n",
    "from sklearn.model_selection import cross_val_score\n",
    "from sklearn.datasets import make_blobs\n",
    "from sklearn.ensemble import RandomForestClassifier\n",
    "from sklearn.ensemble import ExtraTreesClassifier\n",
    "from sklearn.tree import DecisionTreeClassifier\n",
    "import matplotlib.pyplot as plt\n",
    "from sklearn.datasets import load_breast_cancer\n",
    "from sklearn import tree\n",
    "from sklearn.model_selection import train_test_split\n",
    "from sklearn.metrics import mean_squared_error, r2_score, accuracy_score\n",
    "import missingno as msno\n",
    "import seaborn as sns\n",
    "from scipy import stats\n",
    "from sklearn import metrics\n",
    "import warnings\n",
    "warnings.filterwarnings('ignore')\n",
    "%matplotlib inline\n",
    "\n"
   ]
  },
  {
   "cell_type": "code",
   "execution_count": 2,
   "metadata": {},
   "outputs": [],
   "source": [
    "# Load data\n",
    "dataset_url = 'Cleaned-Data.csv'\n",
    "data = pd.read_csv(dataset_url)\n",
    "pd.pandas.set_option('display.max_columns',None)\n",
    "\n"
   ]
  },
  {
   "cell_type": "code",
   "execution_count": 3,
   "metadata": {},
   "outputs": [
    {
     "data": {
      "text/plain": [
       "'Peeking into Data'"
      ]
     },
     "metadata": {},
     "output_type": "display_data"
    },
    {
     "data": {
      "text/html": [
       "<div>\n",
       "<style scoped>\n",
       "    .dataframe tbody tr th:only-of-type {\n",
       "        vertical-align: middle;\n",
       "    }\n",
       "\n",
       "    .dataframe tbody tr th {\n",
       "        vertical-align: top;\n",
       "    }\n",
       "\n",
       "    .dataframe thead th {\n",
       "        text-align: right;\n",
       "    }\n",
       "</style>\n",
       "<table border=\"1\" class=\"dataframe\">\n",
       "  <thead>\n",
       "    <tr style=\"text-align: right;\">\n",
       "      <th></th>\n",
       "      <th>Fever</th>\n",
       "      <th>Tiredness</th>\n",
       "      <th>Dry-Cough</th>\n",
       "      <th>Difficulty-in-Breathing</th>\n",
       "      <th>Sore-Throat</th>\n",
       "      <th>None_Sympton</th>\n",
       "      <th>Pains</th>\n",
       "      <th>Nasal-Congestion</th>\n",
       "      <th>Runny-Nose</th>\n",
       "      <th>Diarrhea</th>\n",
       "      <th>None_Experiencing</th>\n",
       "      <th>Age_0-9</th>\n",
       "      <th>Age_10-19</th>\n",
       "      <th>Age_20-24</th>\n",
       "      <th>Age_25-59</th>\n",
       "      <th>Age_60+</th>\n",
       "      <th>Gender_Female</th>\n",
       "      <th>Gender_Male</th>\n",
       "      <th>Gender_Transgender</th>\n",
       "      <th>Severity_Mild</th>\n",
       "      <th>Severity_Moderate</th>\n",
       "      <th>Severity_None</th>\n",
       "      <th>Severity_Severe</th>\n",
       "      <th>Contact_Dont-Know</th>\n",
       "      <th>Contact_No</th>\n",
       "      <th>Contact_Yes</th>\n",
       "      <th>Country</th>\n",
       "    </tr>\n",
       "  </thead>\n",
       "  <tbody>\n",
       "    <tr>\n",
       "      <th>0</th>\n",
       "      <td>1</td>\n",
       "      <td>1</td>\n",
       "      <td>1</td>\n",
       "      <td>1</td>\n",
       "      <td>1</td>\n",
       "      <td>0</td>\n",
       "      <td>1</td>\n",
       "      <td>1</td>\n",
       "      <td>1</td>\n",
       "      <td>1</td>\n",
       "      <td>0</td>\n",
       "      <td>1</td>\n",
       "      <td>0</td>\n",
       "      <td>0</td>\n",
       "      <td>0</td>\n",
       "      <td>0</td>\n",
       "      <td>0</td>\n",
       "      <td>1</td>\n",
       "      <td>0</td>\n",
       "      <td>1</td>\n",
       "      <td>0</td>\n",
       "      <td>0</td>\n",
       "      <td>0</td>\n",
       "      <td>0</td>\n",
       "      <td>0</td>\n",
       "      <td>1</td>\n",
       "      <td>China</td>\n",
       "    </tr>\n",
       "    <tr>\n",
       "      <th>1</th>\n",
       "      <td>1</td>\n",
       "      <td>1</td>\n",
       "      <td>1</td>\n",
       "      <td>1</td>\n",
       "      <td>1</td>\n",
       "      <td>0</td>\n",
       "      <td>1</td>\n",
       "      <td>1</td>\n",
       "      <td>1</td>\n",
       "      <td>1</td>\n",
       "      <td>0</td>\n",
       "      <td>1</td>\n",
       "      <td>0</td>\n",
       "      <td>0</td>\n",
       "      <td>0</td>\n",
       "      <td>0</td>\n",
       "      <td>0</td>\n",
       "      <td>1</td>\n",
       "      <td>0</td>\n",
       "      <td>1</td>\n",
       "      <td>0</td>\n",
       "      <td>0</td>\n",
       "      <td>0</td>\n",
       "      <td>0</td>\n",
       "      <td>1</td>\n",
       "      <td>0</td>\n",
       "      <td>China</td>\n",
       "    </tr>\n",
       "    <tr>\n",
       "      <th>2</th>\n",
       "      <td>1</td>\n",
       "      <td>1</td>\n",
       "      <td>1</td>\n",
       "      <td>1</td>\n",
       "      <td>1</td>\n",
       "      <td>0</td>\n",
       "      <td>1</td>\n",
       "      <td>1</td>\n",
       "      <td>1</td>\n",
       "      <td>1</td>\n",
       "      <td>0</td>\n",
       "      <td>1</td>\n",
       "      <td>0</td>\n",
       "      <td>0</td>\n",
       "      <td>0</td>\n",
       "      <td>0</td>\n",
       "      <td>0</td>\n",
       "      <td>1</td>\n",
       "      <td>0</td>\n",
       "      <td>1</td>\n",
       "      <td>0</td>\n",
       "      <td>0</td>\n",
       "      <td>0</td>\n",
       "      <td>1</td>\n",
       "      <td>0</td>\n",
       "      <td>0</td>\n",
       "      <td>China</td>\n",
       "    </tr>\n",
       "    <tr>\n",
       "      <th>3</th>\n",
       "      <td>1</td>\n",
       "      <td>1</td>\n",
       "      <td>1</td>\n",
       "      <td>1</td>\n",
       "      <td>1</td>\n",
       "      <td>0</td>\n",
       "      <td>1</td>\n",
       "      <td>1</td>\n",
       "      <td>1</td>\n",
       "      <td>1</td>\n",
       "      <td>0</td>\n",
       "      <td>1</td>\n",
       "      <td>0</td>\n",
       "      <td>0</td>\n",
       "      <td>0</td>\n",
       "      <td>0</td>\n",
       "      <td>0</td>\n",
       "      <td>1</td>\n",
       "      <td>0</td>\n",
       "      <td>0</td>\n",
       "      <td>1</td>\n",
       "      <td>0</td>\n",
       "      <td>0</td>\n",
       "      <td>0</td>\n",
       "      <td>0</td>\n",
       "      <td>1</td>\n",
       "      <td>China</td>\n",
       "    </tr>\n",
       "    <tr>\n",
       "      <th>4</th>\n",
       "      <td>1</td>\n",
       "      <td>1</td>\n",
       "      <td>1</td>\n",
       "      <td>1</td>\n",
       "      <td>1</td>\n",
       "      <td>0</td>\n",
       "      <td>1</td>\n",
       "      <td>1</td>\n",
       "      <td>1</td>\n",
       "      <td>1</td>\n",
       "      <td>0</td>\n",
       "      <td>1</td>\n",
       "      <td>0</td>\n",
       "      <td>0</td>\n",
       "      <td>0</td>\n",
       "      <td>0</td>\n",
       "      <td>0</td>\n",
       "      <td>1</td>\n",
       "      <td>0</td>\n",
       "      <td>0</td>\n",
       "      <td>1</td>\n",
       "      <td>0</td>\n",
       "      <td>0</td>\n",
       "      <td>0</td>\n",
       "      <td>1</td>\n",
       "      <td>0</td>\n",
       "      <td>China</td>\n",
       "    </tr>\n",
       "  </tbody>\n",
       "</table>\n",
       "</div>"
      ],
      "text/plain": [
       "   Fever  Tiredness  Dry-Cough  Difficulty-in-Breathing  Sore-Throat  \\\n",
       "0      1          1          1                        1            1   \n",
       "1      1          1          1                        1            1   \n",
       "2      1          1          1                        1            1   \n",
       "3      1          1          1                        1            1   \n",
       "4      1          1          1                        1            1   \n",
       "\n",
       "   None_Sympton  Pains  Nasal-Congestion  Runny-Nose  Diarrhea  \\\n",
       "0             0      1                 1           1         1   \n",
       "1             0      1                 1           1         1   \n",
       "2             0      1                 1           1         1   \n",
       "3             0      1                 1           1         1   \n",
       "4             0      1                 1           1         1   \n",
       "\n",
       "   None_Experiencing  Age_0-9  Age_10-19  Age_20-24  Age_25-59  Age_60+  \\\n",
       "0                  0        1          0          0          0        0   \n",
       "1                  0        1          0          0          0        0   \n",
       "2                  0        1          0          0          0        0   \n",
       "3                  0        1          0          0          0        0   \n",
       "4                  0        1          0          0          0        0   \n",
       "\n",
       "   Gender_Female  Gender_Male  Gender_Transgender  Severity_Mild  \\\n",
       "0              0            1                   0              1   \n",
       "1              0            1                   0              1   \n",
       "2              0            1                   0              1   \n",
       "3              0            1                   0              0   \n",
       "4              0            1                   0              0   \n",
       "\n",
       "   Severity_Moderate  Severity_None  Severity_Severe  Contact_Dont-Know  \\\n",
       "0                  0              0                0                  0   \n",
       "1                  0              0                0                  0   \n",
       "2                  0              0                0                  1   \n",
       "3                  1              0                0                  0   \n",
       "4                  1              0                0                  0   \n",
       "\n",
       "   Contact_No  Contact_Yes Country  \n",
       "0           0            1   China  \n",
       "1           1            0   China  \n",
       "2           0            0   China  \n",
       "3           0            1   China  \n",
       "4           1            0   China  "
      ]
     },
     "metadata": {},
     "output_type": "display_data"
    }
   ],
   "source": [
    "display(\"Peeking into Data\", data.head())\n"
   ]
  },
  {
   "cell_type": "code",
   "execution_count": 4,
   "metadata": {},
   "outputs": [
    {
     "data": {
      "text/plain": [
       "'Shape of dataset'"
      ]
     },
     "metadata": {},
     "output_type": "display_data"
    },
    {
     "name": "stdout",
     "output_type": "stream",
     "text": [
      "Rows: 316800 \n",
      "Columns: 27\n"
     ]
    }
   ],
   "source": [
    "display(\"Shape of dataset\")\n",
    "print(\"Rows:\",data.shape[0],\"\\nColumns:\",data.shape[1])"
   ]
  },
  {
   "cell_type": "code",
   "execution_count": 5,
   "metadata": {},
   "outputs": [
    {
     "data": {
      "text/plain": [
       "'NULL Values'"
      ]
     },
     "metadata": {},
     "output_type": "display_data"
    },
    {
     "data": {
      "text/plain": [
       "Fever                      0\n",
       "Tiredness                  0\n",
       "Dry-Cough                  0\n",
       "Difficulty-in-Breathing    0\n",
       "Sore-Throat                0\n",
       "None_Sympton               0\n",
       "Pains                      0\n",
       "Nasal-Congestion           0\n",
       "Runny-Nose                 0\n",
       "Diarrhea                   0\n",
       "None_Experiencing          0\n",
       "Age_0-9                    0\n",
       "Age_10-19                  0\n",
       "Age_20-24                  0\n",
       "Age_25-59                  0\n",
       "Age_60+                    0\n",
       "Gender_Female              0\n",
       "Gender_Male                0\n",
       "Gender_Transgender         0\n",
       "Severity_Mild              0\n",
       "Severity_Moderate          0\n",
       "Severity_None              0\n",
       "Severity_Severe            0\n",
       "Contact_Dont-Know          0\n",
       "Contact_No                 0\n",
       "Contact_Yes                0\n",
       "Country                    0\n",
       "dtype: int64"
      ]
     },
     "metadata": {},
     "output_type": "display_data"
    }
   ],
   "source": [
    "display(\"NULL Values\", data.isnull().sum())"
   ]
  },
  {
   "cell_type": "code",
   "execution_count": 6,
   "metadata": {},
   "outputs": [
    {
     "data": {
      "text/plain": [
       "'Description'"
      ]
     },
     "metadata": {},
     "output_type": "display_data"
    },
    {
     "data": {
      "text/html": [
       "<div>\n",
       "<style scoped>\n",
       "    .dataframe tbody tr th:only-of-type {\n",
       "        vertical-align: middle;\n",
       "    }\n",
       "\n",
       "    .dataframe tbody tr th {\n",
       "        vertical-align: top;\n",
       "    }\n",
       "\n",
       "    .dataframe thead th {\n",
       "        text-align: right;\n",
       "    }\n",
       "</style>\n",
       "<table border=\"1\" class=\"dataframe\">\n",
       "  <thead>\n",
       "    <tr style=\"text-align: right;\">\n",
       "      <th></th>\n",
       "      <th>Fever</th>\n",
       "      <th>Tiredness</th>\n",
       "      <th>Dry-Cough</th>\n",
       "      <th>Difficulty-in-Breathing</th>\n",
       "      <th>Sore-Throat</th>\n",
       "      <th>None_Sympton</th>\n",
       "      <th>Pains</th>\n",
       "      <th>Nasal-Congestion</th>\n",
       "      <th>Runny-Nose</th>\n",
       "      <th>Diarrhea</th>\n",
       "      <th>None_Experiencing</th>\n",
       "      <th>Age_0-9</th>\n",
       "      <th>Age_10-19</th>\n",
       "      <th>Age_20-24</th>\n",
       "      <th>Age_25-59</th>\n",
       "      <th>Age_60+</th>\n",
       "      <th>Gender_Female</th>\n",
       "      <th>Gender_Male</th>\n",
       "      <th>Gender_Transgender</th>\n",
       "      <th>Severity_Mild</th>\n",
       "      <th>Severity_Moderate</th>\n",
       "      <th>Severity_None</th>\n",
       "      <th>Severity_Severe</th>\n",
       "      <th>Contact_Dont-Know</th>\n",
       "      <th>Contact_No</th>\n",
       "      <th>Contact_Yes</th>\n",
       "    </tr>\n",
       "  </thead>\n",
       "  <tbody>\n",
       "    <tr>\n",
       "      <th>count</th>\n",
       "      <td>316800.000000</td>\n",
       "      <td>316800.000000</td>\n",
       "      <td>316800.000000</td>\n",
       "      <td>316800.000000</td>\n",
       "      <td>316800.000000</td>\n",
       "      <td>316800.000000</td>\n",
       "      <td>316800.000000</td>\n",
       "      <td>316800.000000</td>\n",
       "      <td>316800.000000</td>\n",
       "      <td>316800.000000</td>\n",
       "      <td>316800.000000</td>\n",
       "      <td>316800.000000</td>\n",
       "      <td>316800.000000</td>\n",
       "      <td>316800.000000</td>\n",
       "      <td>316800.000000</td>\n",
       "      <td>316800.000000</td>\n",
       "      <td>316800.000000</td>\n",
       "      <td>316800.000000</td>\n",
       "      <td>316800.000000</td>\n",
       "      <td>316800.000000</td>\n",
       "      <td>316800.000000</td>\n",
       "      <td>316800.000000</td>\n",
       "      <td>316800.000000</td>\n",
       "      <td>316800.000000</td>\n",
       "      <td>316800.000000</td>\n",
       "      <td>316800.000000</td>\n",
       "    </tr>\n",
       "    <tr>\n",
       "      <th>mean</th>\n",
       "      <td>0.312500</td>\n",
       "      <td>0.500000</td>\n",
       "      <td>0.562500</td>\n",
       "      <td>0.500000</td>\n",
       "      <td>0.312500</td>\n",
       "      <td>0.062500</td>\n",
       "      <td>0.363636</td>\n",
       "      <td>0.545455</td>\n",
       "      <td>0.545455</td>\n",
       "      <td>0.363636</td>\n",
       "      <td>0.090909</td>\n",
       "      <td>0.200000</td>\n",
       "      <td>0.200000</td>\n",
       "      <td>0.200000</td>\n",
       "      <td>0.200000</td>\n",
       "      <td>0.200000</td>\n",
       "      <td>0.333333</td>\n",
       "      <td>0.333333</td>\n",
       "      <td>0.333333</td>\n",
       "      <td>0.250000</td>\n",
       "      <td>0.250000</td>\n",
       "      <td>0.250000</td>\n",
       "      <td>0.250000</td>\n",
       "      <td>0.333333</td>\n",
       "      <td>0.333333</td>\n",
       "      <td>0.333333</td>\n",
       "    </tr>\n",
       "    <tr>\n",
       "      <th>std</th>\n",
       "      <td>0.463513</td>\n",
       "      <td>0.500001</td>\n",
       "      <td>0.496079</td>\n",
       "      <td>0.500001</td>\n",
       "      <td>0.463513</td>\n",
       "      <td>0.242062</td>\n",
       "      <td>0.481046</td>\n",
       "      <td>0.497930</td>\n",
       "      <td>0.497930</td>\n",
       "      <td>0.481046</td>\n",
       "      <td>0.287480</td>\n",
       "      <td>0.400001</td>\n",
       "      <td>0.400001</td>\n",
       "      <td>0.400001</td>\n",
       "      <td>0.400001</td>\n",
       "      <td>0.400001</td>\n",
       "      <td>0.471405</td>\n",
       "      <td>0.471405</td>\n",
       "      <td>0.471405</td>\n",
       "      <td>0.433013</td>\n",
       "      <td>0.433013</td>\n",
       "      <td>0.433013</td>\n",
       "      <td>0.433013</td>\n",
       "      <td>0.471405</td>\n",
       "      <td>0.471405</td>\n",
       "      <td>0.471405</td>\n",
       "    </tr>\n",
       "    <tr>\n",
       "      <th>min</th>\n",
       "      <td>0.000000</td>\n",
       "      <td>0.000000</td>\n",
       "      <td>0.000000</td>\n",
       "      <td>0.000000</td>\n",
       "      <td>0.000000</td>\n",
       "      <td>0.000000</td>\n",
       "      <td>0.000000</td>\n",
       "      <td>0.000000</td>\n",
       "      <td>0.000000</td>\n",
       "      <td>0.000000</td>\n",
       "      <td>0.000000</td>\n",
       "      <td>0.000000</td>\n",
       "      <td>0.000000</td>\n",
       "      <td>0.000000</td>\n",
       "      <td>0.000000</td>\n",
       "      <td>0.000000</td>\n",
       "      <td>0.000000</td>\n",
       "      <td>0.000000</td>\n",
       "      <td>0.000000</td>\n",
       "      <td>0.000000</td>\n",
       "      <td>0.000000</td>\n",
       "      <td>0.000000</td>\n",
       "      <td>0.000000</td>\n",
       "      <td>0.000000</td>\n",
       "      <td>0.000000</td>\n",
       "      <td>0.000000</td>\n",
       "    </tr>\n",
       "    <tr>\n",
       "      <th>25%</th>\n",
       "      <td>0.000000</td>\n",
       "      <td>0.000000</td>\n",
       "      <td>0.000000</td>\n",
       "      <td>0.000000</td>\n",
       "      <td>0.000000</td>\n",
       "      <td>0.000000</td>\n",
       "      <td>0.000000</td>\n",
       "      <td>0.000000</td>\n",
       "      <td>0.000000</td>\n",
       "      <td>0.000000</td>\n",
       "      <td>0.000000</td>\n",
       "      <td>0.000000</td>\n",
       "      <td>0.000000</td>\n",
       "      <td>0.000000</td>\n",
       "      <td>0.000000</td>\n",
       "      <td>0.000000</td>\n",
       "      <td>0.000000</td>\n",
       "      <td>0.000000</td>\n",
       "      <td>0.000000</td>\n",
       "      <td>0.000000</td>\n",
       "      <td>0.000000</td>\n",
       "      <td>0.000000</td>\n",
       "      <td>0.000000</td>\n",
       "      <td>0.000000</td>\n",
       "      <td>0.000000</td>\n",
       "      <td>0.000000</td>\n",
       "    </tr>\n",
       "    <tr>\n",
       "      <th>50%</th>\n",
       "      <td>0.000000</td>\n",
       "      <td>0.500000</td>\n",
       "      <td>1.000000</td>\n",
       "      <td>0.500000</td>\n",
       "      <td>0.000000</td>\n",
       "      <td>0.000000</td>\n",
       "      <td>0.000000</td>\n",
       "      <td>1.000000</td>\n",
       "      <td>1.000000</td>\n",
       "      <td>0.000000</td>\n",
       "      <td>0.000000</td>\n",
       "      <td>0.000000</td>\n",
       "      <td>0.000000</td>\n",
       "      <td>0.000000</td>\n",
       "      <td>0.000000</td>\n",
       "      <td>0.000000</td>\n",
       "      <td>0.000000</td>\n",
       "      <td>0.000000</td>\n",
       "      <td>0.000000</td>\n",
       "      <td>0.000000</td>\n",
       "      <td>0.000000</td>\n",
       "      <td>0.000000</td>\n",
       "      <td>0.000000</td>\n",
       "      <td>0.000000</td>\n",
       "      <td>0.000000</td>\n",
       "      <td>0.000000</td>\n",
       "    </tr>\n",
       "    <tr>\n",
       "      <th>75%</th>\n",
       "      <td>1.000000</td>\n",
       "      <td>1.000000</td>\n",
       "      <td>1.000000</td>\n",
       "      <td>1.000000</td>\n",
       "      <td>1.000000</td>\n",
       "      <td>0.000000</td>\n",
       "      <td>1.000000</td>\n",
       "      <td>1.000000</td>\n",
       "      <td>1.000000</td>\n",
       "      <td>1.000000</td>\n",
       "      <td>0.000000</td>\n",
       "      <td>0.000000</td>\n",
       "      <td>0.000000</td>\n",
       "      <td>0.000000</td>\n",
       "      <td>0.000000</td>\n",
       "      <td>0.000000</td>\n",
       "      <td>1.000000</td>\n",
       "      <td>1.000000</td>\n",
       "      <td>1.000000</td>\n",
       "      <td>0.250000</td>\n",
       "      <td>0.250000</td>\n",
       "      <td>0.250000</td>\n",
       "      <td>0.250000</td>\n",
       "      <td>1.000000</td>\n",
       "      <td>1.000000</td>\n",
       "      <td>1.000000</td>\n",
       "    </tr>\n",
       "    <tr>\n",
       "      <th>max</th>\n",
       "      <td>1.000000</td>\n",
       "      <td>1.000000</td>\n",
       "      <td>1.000000</td>\n",
       "      <td>1.000000</td>\n",
       "      <td>1.000000</td>\n",
       "      <td>1.000000</td>\n",
       "      <td>1.000000</td>\n",
       "      <td>1.000000</td>\n",
       "      <td>1.000000</td>\n",
       "      <td>1.000000</td>\n",
       "      <td>1.000000</td>\n",
       "      <td>1.000000</td>\n",
       "      <td>1.000000</td>\n",
       "      <td>1.000000</td>\n",
       "      <td>1.000000</td>\n",
       "      <td>1.000000</td>\n",
       "      <td>1.000000</td>\n",
       "      <td>1.000000</td>\n",
       "      <td>1.000000</td>\n",
       "      <td>1.000000</td>\n",
       "      <td>1.000000</td>\n",
       "      <td>1.000000</td>\n",
       "      <td>1.000000</td>\n",
       "      <td>1.000000</td>\n",
       "      <td>1.000000</td>\n",
       "      <td>1.000000</td>\n",
       "    </tr>\n",
       "  </tbody>\n",
       "</table>\n",
       "</div>"
      ],
      "text/plain": [
       "               Fever      Tiredness      Dry-Cough  Difficulty-in-Breathing  \\\n",
       "count  316800.000000  316800.000000  316800.000000            316800.000000   \n",
       "mean        0.312500       0.500000       0.562500                 0.500000   \n",
       "std         0.463513       0.500001       0.496079                 0.500001   \n",
       "min         0.000000       0.000000       0.000000                 0.000000   \n",
       "25%         0.000000       0.000000       0.000000                 0.000000   \n",
       "50%         0.000000       0.500000       1.000000                 0.500000   \n",
       "75%         1.000000       1.000000       1.000000                 1.000000   \n",
       "max         1.000000       1.000000       1.000000                 1.000000   \n",
       "\n",
       "         Sore-Throat   None_Sympton          Pains  Nasal-Congestion  \\\n",
       "count  316800.000000  316800.000000  316800.000000     316800.000000   \n",
       "mean        0.312500       0.062500       0.363636          0.545455   \n",
       "std         0.463513       0.242062       0.481046          0.497930   \n",
       "min         0.000000       0.000000       0.000000          0.000000   \n",
       "25%         0.000000       0.000000       0.000000          0.000000   \n",
       "50%         0.000000       0.000000       0.000000          1.000000   \n",
       "75%         1.000000       0.000000       1.000000          1.000000   \n",
       "max         1.000000       1.000000       1.000000          1.000000   \n",
       "\n",
       "          Runny-Nose       Diarrhea  None_Experiencing        Age_0-9  \\\n",
       "count  316800.000000  316800.000000      316800.000000  316800.000000   \n",
       "mean        0.545455       0.363636           0.090909       0.200000   \n",
       "std         0.497930       0.481046           0.287480       0.400001   \n",
       "min         0.000000       0.000000           0.000000       0.000000   \n",
       "25%         0.000000       0.000000           0.000000       0.000000   \n",
       "50%         1.000000       0.000000           0.000000       0.000000   \n",
       "75%         1.000000       1.000000           0.000000       0.000000   \n",
       "max         1.000000       1.000000           1.000000       1.000000   \n",
       "\n",
       "           Age_10-19      Age_20-24      Age_25-59        Age_60+  \\\n",
       "count  316800.000000  316800.000000  316800.000000  316800.000000   \n",
       "mean        0.200000       0.200000       0.200000       0.200000   \n",
       "std         0.400001       0.400001       0.400001       0.400001   \n",
       "min         0.000000       0.000000       0.000000       0.000000   \n",
       "25%         0.000000       0.000000       0.000000       0.000000   \n",
       "50%         0.000000       0.000000       0.000000       0.000000   \n",
       "75%         0.000000       0.000000       0.000000       0.000000   \n",
       "max         1.000000       1.000000       1.000000       1.000000   \n",
       "\n",
       "       Gender_Female    Gender_Male  Gender_Transgender  Severity_Mild  \\\n",
       "count  316800.000000  316800.000000       316800.000000  316800.000000   \n",
       "mean        0.333333       0.333333            0.333333       0.250000   \n",
       "std         0.471405       0.471405            0.471405       0.433013   \n",
       "min         0.000000       0.000000            0.000000       0.000000   \n",
       "25%         0.000000       0.000000            0.000000       0.000000   \n",
       "50%         0.000000       0.000000            0.000000       0.000000   \n",
       "75%         1.000000       1.000000            1.000000       0.250000   \n",
       "max         1.000000       1.000000            1.000000       1.000000   \n",
       "\n",
       "       Severity_Moderate  Severity_None  Severity_Severe  Contact_Dont-Know  \\\n",
       "count      316800.000000  316800.000000    316800.000000      316800.000000   \n",
       "mean            0.250000       0.250000         0.250000           0.333333   \n",
       "std             0.433013       0.433013         0.433013           0.471405   \n",
       "min             0.000000       0.000000         0.000000           0.000000   \n",
       "25%             0.000000       0.000000         0.000000           0.000000   \n",
       "50%             0.000000       0.000000         0.000000           0.000000   \n",
       "75%             0.250000       0.250000         0.250000           1.000000   \n",
       "max             1.000000       1.000000         1.000000           1.000000   \n",
       "\n",
       "          Contact_No    Contact_Yes  \n",
       "count  316800.000000  316800.000000  \n",
       "mean        0.333333       0.333333  \n",
       "std         0.471405       0.471405  \n",
       "min         0.000000       0.000000  \n",
       "25%         0.000000       0.000000  \n",
       "50%         0.000000       0.000000  \n",
       "75%         1.000000       1.000000  \n",
       "max         1.000000       1.000000  "
      ]
     },
     "metadata": {},
     "output_type": "display_data"
    }
   ],
   "source": [
    "display(\"Description\",data.describe())"
   ]
  },
  {
   "cell_type": "code",
   "execution_count": 7,
   "metadata": {},
   "outputs": [
    {
     "name": "stdout",
     "output_type": "stream",
     "text": [
      "<class 'pandas.core.frame.DataFrame'>\n",
      "RangeIndex: 316800 entries, 0 to 316799\n",
      "Data columns (total 27 columns):\n",
      " #   Column                   Non-Null Count   Dtype \n",
      "---  ------                   --------------   ----- \n",
      " 0   Fever                    316800 non-null  int64 \n",
      " 1   Tiredness                316800 non-null  int64 \n",
      " 2   Dry-Cough                316800 non-null  int64 \n",
      " 3   Difficulty-in-Breathing  316800 non-null  int64 \n",
      " 4   Sore-Throat              316800 non-null  int64 \n",
      " 5   None_Sympton             316800 non-null  int64 \n",
      " 6   Pains                    316800 non-null  int64 \n",
      " 7   Nasal-Congestion         316800 non-null  int64 \n",
      " 8   Runny-Nose               316800 non-null  int64 \n",
      " 9   Diarrhea                 316800 non-null  int64 \n",
      " 10  None_Experiencing        316800 non-null  int64 \n",
      " 11  Age_0-9                  316800 non-null  int64 \n",
      " 12  Age_10-19                316800 non-null  int64 \n",
      " 13  Age_20-24                316800 non-null  int64 \n",
      " 14  Age_25-59                316800 non-null  int64 \n",
      " 15  Age_60+                  316800 non-null  int64 \n",
      " 16  Gender_Female            316800 non-null  int64 \n",
      " 17  Gender_Male              316800 non-null  int64 \n",
      " 18  Gender_Transgender       316800 non-null  int64 \n",
      " 19  Severity_Mild            316800 non-null  int64 \n",
      " 20  Severity_Moderate        316800 non-null  int64 \n",
      " 21  Severity_None            316800 non-null  int64 \n",
      " 22  Severity_Severe          316800 non-null  int64 \n",
      " 23  Contact_Dont-Know        316800 non-null  int64 \n",
      " 24  Contact_No               316800 non-null  int64 \n",
      " 25  Contact_Yes              316800 non-null  int64 \n",
      " 26  Country                  316800 non-null  object\n",
      "dtypes: int64(26), object(1)\n",
      "memory usage: 65.3+ MB\n"
     ]
    }
   ],
   "source": [
    "data.info()"
   ]
  },
  {
   "cell_type": "code",
   "execution_count": 8,
   "metadata": {},
   "outputs": [
    {
     "data": {
      "text/plain": [
       "<AxesSubplot:ylabel='Density'>"
      ]
     },
     "execution_count": 8,
     "metadata": {},
     "output_type": "execute_result"
    },
    {
     "data": {
      "image/png": "[encoded data removed]",
      "text/plain": [
       "<Figure size 432x288 with 1 Axes>"
      ]
     },
     "metadata": {
      "needs_background": "light"
     },
     "output_type": "display_data"
    }
   ],
   "source": [
    "sns.distplot(data.drop('Country',axis=1))"
   ]
  },
  {
   "cell_type": "code",
   "execution_count": 9,
   "metadata": {},
   "outputs": [
    {
     "name": "stdout",
     "output_type": "stream",
     "text": [
      "\n",
      "Column Name: Fever --> [1 0] -->Unique Count 2\n",
      "\n",
      "Column Name: Tiredness --> [1 0] -->Unique Count 2\n",
      "\n",
      "Column Name: Dry-Cough --> [1 0] -->Unique Count 2\n",
      "\n",
      "Column Name: Difficulty-in-Breathing --> [1 0] -->Unique Count 2\n",
      "\n",
      "Column Name: Sore-Throat --> [1 0] -->Unique Count 2\n",
      "\n",
      "Column Name: None_Sympton --> [0 1] -->Unique Count 2\n",
      "\n",
      "Column Name: Pains --> [1 0] -->Unique Count 2\n",
      "\n",
      "Column Name: Nasal-Congestion --> [1 0] -->Unique Count 2\n",
      "\n",
      "Column Name: Runny-Nose --> [1 0] -->Unique Count 2\n",
      "\n",
      "Column Name: Diarrhea --> [1 0] -->Unique Count 2\n",
      "\n",
      "Column Name: None_Experiencing --> [0 1] -->Unique Count 2\n",
      "\n",
      "Column Name: Age_0-9 --> [1 0] -->Unique Count 2\n",
      "\n",
      "Column Name: Age_10-19 --> [0 1] -->Unique Count 2\n",
      "\n",
      "Column Name: Age_20-24 --> [0 1] -->Unique Count 2\n",
      "\n",
      "Column Name: Age_25-59 --> [0 1] -->Unique Count 2\n",
      "\n",
      "Column Name: Age_60+ --> [0 1] -->Unique Count 2\n",
      "\n",
      "Column Name: Gender_Female --> [0 1] -->Unique Count 2\n",
      "\n",
      "Column Name: Gender_Male --> [1 0] -->Unique Count 2\n",
      "\n",
      "Column Name: Gender_Transgender --> [0 1] -->Unique Count 2\n",
      "\n",
      "Column Name: Severity_Mild --> [1 0] -->Unique Count 2\n",
      "\n",
      "Column Name: Severity_Moderate --> [0 1] -->Unique Count 2\n",
      "\n",
      "Column Name: Severity_None --> [0 1] -->Unique Count 2\n",
      "\n",
      "Column Name: Severity_Severe --> [0 1] -->Unique Count 2\n",
      "\n",
      "Column Name: Contact_Dont-Know --> [0 1] -->Unique Count 2\n",
      "\n",
      "Column Name: Contact_No --> [0 1] -->Unique Count 2\n",
      "\n",
      "Column Name: Contact_Yes --> [1 0] -->Unique Count 2\n",
      "\n",
      "Column Name: Country --> ['China' 'Italy' 'Iran' 'Republic of Korean' 'France' 'Spain' 'Germany'\n",
      " 'UAE' 'Other-EUR' 'Other'] -->Unique Count 10\n"
     ]
    }
   ],
   "source": [
    "for i in data.columns:\n",
    "    print(\"\\nColumn Name:\",i,\"-->\",data[i].unique(),\"-->Unique Count\",len(data[i].unique()))"
   ]
  },
  {
   "cell_type": "code",
   "execution_count": 10,
   "metadata": {},
   "outputs": [
    {
     "data": {
      "text/plain": [
       "Index(['Severity_Mild', 'Severity_Moderate', 'Severity_None',\n",
       "       'Severity_Severe'],\n",
       "      dtype='object')"
      ]
     },
     "execution_count": 10,
     "metadata": {},
     "output_type": "execute_result"
    }
   ],
   "source": [
    "severity_columns = data.filter(like='Severity_').columns\n",
    "severity_columns"
   ]
  },
  {
   "cell_type": "code",
   "execution_count": 11,
   "metadata": {},
   "outputs": [],
   "source": [
    "data['Severity_None'].replace({1:'None',0:'No'},inplace =True)\n",
    "data['Severity_Mild'].replace({1:'Mild',0:'No'},inplace =True)\n",
    "data['Severity_Moderate'].replace({1:'Moderate',0:'No'},inplace =True)\n",
    "data['Severity_Severe'].replace({1:'Severe',0:'No'},inplace =True)"
   ]
  },
  {
   "cell_type": "code",
   "execution_count": 12,
   "metadata": {},
   "outputs": [],
   "source": [
    "data['Condition']=data[severity_columns].values.tolist()"
   ]
  },
  {
   "cell_type": "code",
   "execution_count": 13,
   "metadata": {},
   "outputs": [],
   "source": [
    "def removing(list1):\n",
    "    list1 = set(list1) \n",
    "    list1.discard(\"No\")\n",
    "    a = ''.join(list1)\n",
    "    return a"
   ]
  },
  {
   "cell_type": "code",
   "execution_count": 14,
   "metadata": {},
   "outputs": [
    {
     "data": {
      "text/plain": [
       "array(['Mild', 'Moderate', 'Severe', 'None'], dtype=object)"
      ]
     },
     "execution_count": 14,
     "metadata": {},
     "output_type": "execute_result"
    }
   ],
   "source": [
    "data['Condition'] = data['Condition'].apply(removing)\n",
    "data['Condition'].unique()\n",
    "\n"
   ]
  },
  {
   "cell_type": "code",
   "execution_count": 15,
   "metadata": {},
   "outputs": [
    {
     "data": {
      "text/plain": [
       "0         0\n",
       "1         0\n",
       "2         0\n",
       "3         1\n",
       "4         1\n",
       "         ..\n",
       "316795    3\n",
       "316796    3\n",
       "316797    2\n",
       "316798    2\n",
       "316799    2\n",
       "Name: Condition, Length: 316800, dtype: int32"
      ]
     },
     "execution_count": 15,
     "metadata": {},
     "output_type": "execute_result"
    }
   ],
   "source": [
    "from sklearn import preprocessing \n",
    "label_encoder = preprocessing.LabelEncoder() \n",
    "data['Condition']= label_encoder.fit_transform(data['Condition']) \n",
    "data['Condition']"
   ]
  },
  {
   "cell_type": "code",
   "execution_count": 16,
   "metadata": {},
   "outputs": [],
   "source": [
    "age_columns = data.filter(like='Age_').columns\n",
    "gender_columns = data.filter(like='Gender_').columns\n",
    "contact_columns = data.filter(like='Contact_').columns"
   ]
  },
  {
   "cell_type": "code",
   "execution_count": 17,
   "metadata": {},
   "outputs": [],
   "source": [
    "No_risk_age = data.groupby(['Severity_None'])[age_columns].sum()\n",
    "No_risk_gender = data.groupby(['Severity_None'])[gender_columns].sum()\n",
    "No_risk_contact = data.groupby(['Severity_None'])[contact_columns].sum()"
   ]
  },
  {
   "cell_type": "code",
   "execution_count": 18,
   "metadata": {},
   "outputs": [],
   "source": [
    "Low_risk_age = data.groupby(['Severity_Mild'])[age_columns].sum()\n",
    "Low_risk_gender = data.groupby(['Severity_Mild'])[gender_columns].sum()\n",
    "Low_risk_contact = data.groupby(['Severity_Mild'])[contact_columns].sum()"
   ]
  },
  {
   "cell_type": "code",
   "execution_count": 19,
   "metadata": {},
   "outputs": [],
   "source": [
    "Moderate_risk_age = data.groupby(['Severity_Moderate'])[age_columns].sum()\n",
    "Moderate_risk_gender = data.groupby(['Severity_Moderate'])[gender_columns].sum()\n",
    "Moderate_risk_contact = data.groupby(['Severity_Moderate'])[contact_columns].sum()"
   ]
  },
  {
   "cell_type": "code",
   "execution_count": 20,
   "metadata": {},
   "outputs": [],
   "source": [
    "Severe_risk_age = data.groupby(['Severity_Severe'])[age_columns].sum()\n",
    "Severe_risk_gender = data.groupby(['Severity_Severe'])[gender_columns].sum()\n",
    "Severe_risk_contact = data.groupby(['Severity_Severe'])[contact_columns].sum()"
   ]
  },
  {
   "cell_type": "code",
   "execution_count": 21,
   "metadata": {},
   "outputs": [],
   "source": [
    "#sns.countplot(data['Condition'])\n"
   ]
  },
  {
   "cell_type": "code",
   "execution_count": 22,
   "metadata": {},
   "outputs": [],
   "source": [
    "# Target features\n",
    "y =data['Condition'] #data[['Severity_Mild','Severity_Moderate','Severity_None','Severity_Severe']]\n",
    "\n",
    "# Input features\n",
    "X = data[['Fever','Tiredness','Dry-Cough','Difficulty-in-Breathing','Sore-Throat', 'None_Sympton', 'Pains','Runny-Nose', 'Diarrhea']]#,\n",
    "              \n",
    "#\"Age_0-9\", \"Age_10-19\", \"Age_20-24\", \"Age_25-59\", \"Age_60+\", \"Gender_Female\", \"Gender_Male\", \"Gender_Transgender\"]]\n",
    "\n",
    "\n"
   ]
  },
  {
   "cell_type": "code",
   "execution_count": 23,
   "metadata": {},
   "outputs": [
    {
     "name": "stdout",
     "output_type": "stream",
     "text": [
      "X_train Shape :  (253440, 9)\n",
      "X_test Shape :  (63360, 9)\n",
      "y_train Shape :  (253440,)\n",
      "y_test Shape :  (63360,)\n"
     ]
    }
   ],
   "source": [
    "# Split data\n",
    "X_train, X_test, y_train, y_test = train_test_split(X, y,\n",
    "                                                    test_size=0.2, \n",
    "                                                    random_state=123,\n",
    "                                                    stratify=y)\n",
    "print(\"X_train Shape : \",X_train.shape)\n",
    "print(\"X_test Shape : \",X_test.shape)\n",
    "print(\"y_train Shape : \",y_train.shape)\n",
    "print(\"y_test Shape : \",y_test.shape)"
   ]
  },
  {
   "cell_type": "code",
   "execution_count": 24,
   "metadata": {},
   "outputs": [
    {
     "data": {
      "text/plain": [
       "241937    1\n",
       "269823    1\n",
       "102397    0\n",
       "43952     3\n",
       "203033    1\n",
       "         ..\n",
       "1002      3\n",
       "164406    3\n",
       "79313     1\n",
       "258325    0\n",
       "67947     1\n",
       "Name: Condition, Length: 253440, dtype: int32"
      ]
     },
     "execution_count": 24,
     "metadata": {},
     "output_type": "execute_result"
    }
   ],
   "source": [
    "y_train"
   ]
  },
  {
   "cell_type": "code",
   "execution_count": 27,
   "metadata": {},
   "outputs": [
    {
     "name": "stdout",
     "output_type": "stream",
     "text": [
      "DecisionTree scores.mean:  [0.25 0.25 0.25 0.25 0.25]\n",
      "DecisionTree r2_score:  -1.047689393939394\n"
     ]
    },
    {
     "data": {
      "text/plain": [
       "0.23129734848484848"
      ]
     },
     "execution_count": 27,
     "metadata": {},
     "output_type": "execute_result"
    }
   ],
   "source": [
    "# DecisionTree\n",
    "from sklearn.multioutput import MultiOutputClassifier\n",
    "\n",
    "DecisionTree = DecisionTreeClassifier(max_depth=100, min_samples_split=4,\n",
    "    random_state=0)\n",
    "#DecisionTree = MultiOutputClassifier(DecisionTree, n_jobs=-1)\n",
    "scores = cross_val_score(DecisionTree, X, y, cv=5)\n",
    "print('DecisionTree scores.mean: ', scores)\n",
    "\n",
    "DecisionTree = DecisionTree.fit(X_train, y_train)\n",
    "pred = DecisionTree.predict(X_test)\n",
    "print('DecisionTree r2_score: ',r2_score(y_test, pred))\n",
    "\n",
    "from sklearn.metrics import accuracy_score\n",
    "accuracy_score(y_test, pred, normalize=True)\n"
   ]
  },
  {
   "cell_type": "code",
   "execution_count": 26,
   "metadata": {},
   "outputs": [
    {
     "name": "stdout",
     "output_type": "stream",
     "text": [
      "SVM:  -1.0017424242424244\n"
     ]
    }
   ],
   "source": [
    "from sklearn.svm import SVC\n",
    "from sklearn.pipeline import make_pipeline\n",
    "from sklearn.preprocessing import StandardScaler\n",
    "clf =  SVC(gamma='auto')\n",
    "clf.fit(X_train, y_train)\n",
    "predSvm = clf.predict(X_test)\n",
    "print('SVM: ', r2_score(y_test, predSvm))"
   ]
  },
  {
   "cell_type": "markdown",
   "metadata": {},
   "source": []
  }
 ],
 "metadata": {
  "kernelspec": {
   "display_name": "Python 3",
   "language": "python",
   "name": "python3"
  },
  "language_info": {
   "codemirror_mode": {
    "name": "ipython",
    "version": 3
   },
   "file_extension": ".py",
   "mimetype": "text/x-python",
   "name": "python",
   "nbconvert_exporter": "python",
   "pygments_lexer": "ipython3",
   "version": "3.6.12"
  }
 },
 "nbformat": 4,
 "nbformat_minor": 4
}
